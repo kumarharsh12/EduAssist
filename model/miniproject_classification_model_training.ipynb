{
  "cells": [
    {
      "cell_type": "markdown",
      "metadata": {
        "id": "v_qE9UDQ5dE0"
      },
      "source": [
        "# New Section\n"
      ]
    },
    {
      "cell_type": "code",
      "execution_count": 4,
      "metadata": {
        "id": "HS_TyCmZTNSj"
      },
      "outputs": [
        {
          "name": "stdout",
          "output_type": "stream",
          "text": [
            "Using device: cuda:0\n"
          ]
        }
      ],
      "source": [
        "import torch\n",
        "import torch.nn as nn\n",
        "import torch.optim as optim\n",
        "from torchvision import datasets, models, transforms\n",
        "from torch.utils.data import DataLoader\n",
        "import time\n",
        "import copy\n",
        "\n",
        "# Check if GPU is available\n",
        "device = torch.device(\"cuda:0\" if torch.cuda.is_available() else \"cpu\")\n",
        "print(f\"Using device: {device}\")\n",
        "######################################################################Reyyan"
      ]
    },
    {
      "cell_type": "code",
      "execution_count": 8,
      "metadata": {},
      "outputs": [],
      "source": [
        "import os\n",
        "\n",
        "def rename_files(directory):\n",
        "    for root, dirs, files in os.walk(directory):\n",
        "        for file in files:\n",
        "            if ' ' in file:\n",
        "                new_file = file.replace(' ', '_')\n",
        "                os.rename(os.path.join(root, file), os.path.join(root, new_file))\n",
        "\n",
        "# Define data directory\n",
        "data_dir = './data'  # Update this to your local data directory\n",
        "\n",
        "# Rename files in train and val directories\n",
        "rename_files(os.path.join(data_dir, 'train'))\n",
        "rename_files(os.path.join(data_dir, 'val'))"
      ]
    },
    {
      "cell_type": "code",
      "execution_count": 12,
      "metadata": {},
      "outputs": [],
      "source": [
        "import os\n",
        "import shutil\n",
        "from sklearn.model_selection import train_test_split\n",
        "\n",
        "def split_data(data_dir, train_dir='train', val_dir='val', val_size=0.2):\n",
        "    train_path = os.path.join(data_dir, train_dir)\n",
        "    val_path = os.path.join(data_dir, val_dir)\n",
        "    \n",
        "    # Create val directory if it doesn't exist\n",
        "    if not os.path.exists(val_path):\n",
        "        os.makedirs(val_path)\n",
        "    \n",
        "    for class_name in os.listdir(train_path):\n",
        "        class_train_path = os.path.join(train_path, class_name)\n",
        "        class_val_path = os.path.join(val_path, class_name)\n",
        "        \n",
        "        # Create class directory in val if it doesn't exist\n",
        "        if not os.path.exists(class_val_path):\n",
        "            os.makedirs(class_val_path)\n",
        "        \n",
        "        # Get list of all files in the class directory\n",
        "        files = os.listdir(class_train_path)\n",
        "        train_files, val_files = train_test_split(files, test_size=val_size, random_state=42)\n",
        "        \n",
        "        # Move validation files to val directory\n",
        "        for file in val_files:\n",
        "            shutil.move(os.path.join(class_train_path, file), os.path.join(class_val_path, file))\n",
        "\n",
        "# Define data directory\n",
        "data_dir = './data'  # Update this to your local data directory\n",
        "\n",
        "# Split data\n",
        "split_data(data_dir)"
      ]
    },
    {
      "cell_type": "code",
      "execution_count": 13,
      "metadata": {
        "id": "D5XhDcsPTP1r"
      },
      "outputs": [
        {
          "name": "stdout",
          "output_type": "stream",
          "text": [
            "./data ['train', 'val'] []\n",
            "./data/train ['class1', 'class2'] []\n",
            "./data/train/class1 [] ['587_(2).png', '020_(3).png', '548_(2).png', '235_(2).png', '446_(3).png', '1601.png', '047_(3).png', '254_(2).png', '357_(3).png', '574_(2).png', '036_(4).png', '013_(3).png', '589_(2).png', '072_(3).png', '025_(3).png', '008_(3).png', '022_(4).png', '755_(2).png', '031_(4).png', '1194_(2).png', '023_(5).png', '223_(2).png', '290_(2).png', '045_(3).png', '452_(2).png', '092_(2).png', '504_(2).png', '681_(2).png', '697_(2).png', '177_(2).png', '355_(3).png', '671_(2).png', '096_(2).png', '019_(4).png', '004_(5).png', '541_(2).png', '202_(2).png', '576_(2).png', '611_(2).png', '089_(2).png', '110_(3).png', '747_(2).png', '429_(3).png', '082_(3).png', '562_(2).png', '266_(2).png', '241_(2).png', '442_(3).png', '386_(3).png', '093_(3).png', '247_(2).png', '128_(2).png', '171_(2).png', '273_(2).png', '331_(2).png', '352_(2).png', '538_(2).png', '142_(2).png', '162_(3).png', '231_(2).png', '667_(2).png', '683_(2).png', '763_(2).png', '003_(3).png', '592_(2).png', '1612.png', '347_(3).png', '1402_(2).png', '528_(2).png', '275_(2).png', '184_(2).png', '098_(3).png', '581_(2).png', '168_(3).png', '462_(3).png', '664_(2).png', '386_(2).png', '165_(3).png', '099_(2).png', '382_(2).png', '005_(3).png', '560_(2).png', '741_(2).png', '267_(2).png', '447_(3).png', '046_(3).png', '445_(2).png', '343_(2).png', '585_(2).png', '428_(2).png', '339_(3).png', '033_(4).png', '315_(3).png', '029_(4).png', '005_(4).png', '394_(2).png', '160_(2).png', '029_(2).png', '186_(2).png', '227_(2).png', '094_(2).png', '061_(2).png', '464_(2).png', '359_(2).png', '088_(3).png', '048_(2).png', '750_(2).png', '415_(2).png', '1604.png', '060_(2).png', '361_(3).png', '185_(2).png', '379_(2).png', '436_(3).png', '519_(2).png', '287_(2).png', '718_(2).png', '456_(2).png', '1614.png', '1781.png', '662_(2).png', '701_(2).png', '055_(2).png', '387_(3).png', '1608.png', '358_(3).png', '245_(2).png', '348_(2).png', '422_(3).png', '063_(2).png', '274_(2).png', '068_(3).png', '272_(2).png', '109_(3).png', '586_(2).png', '413_(2).png', '045_(2).png', '572_(2).png', '699_(2).png', '736_(2).png', '479_(2).png', '441_(3).png', '414_(3).png', '1878.png', '388_(2).png', '262_(2).png', '375_(2).png', '087_(2).png', '421_(3).png', '385_(2).png', '234_(2).png', '457_(2).png', '342_(2).png', '165_(2).png', '066_(3).png', '410_(2).png', '120_(2).png', '465_(2).png', '207_(2).png', '721_(2).png', '163_(2).png', '739_(2).png', '378_(3).png', '698_(2).png', '106_(3).png', '252_(2).png', '563_(2).png', '459_(2).png', '408_(2).png', '404_(2).png', '115_(2).png', '348_(3).png', '007_(2).png', '332_(2).png', '843_(2).png', '001_(2).png', '485_(2).png', '055_(3).png', '112_(2).png', '259_(2).png', '301_(2).png', '086_(3).png', '484_(2).png', '040_(3).png', '501_(2).png', '027_(2).png', '350_(3).png', '387_(2).png', '749_(2).png', '367_(2).png', '006_(2).png', '428_(3).png', '526_(2).png', '250_(2).png', '597_(2).png', '271_(2).png', '347_(2).png', '703_(2).png', '113_(2).png', '389_(2).png', '105_(2).png', '392_(2).png', '399_(2).png', '419_(2).png', '360_(3).png', '542_(2).png', '319_(2).png', '281_(2).png', '029_(5).png', '148_(2).png', '076_(2).png', '1611.png', '1782.png', '511_(2).png', '407_(2).png', '844_(2).png', '406_(2).png', '483_(2).png', '163_(3).png', '455_(3).png', '551_(2).png', '056_(3).png', '063_(3).png', '752_(3).png', '481_(2).png', '100_(2).png', '365_(2).png', '715_(2).png', '153_(2).png', '547_(2).png', '373_(2).png', '594_(2).png', '666_(2).png', '362_(2).png', '423_(2).png', '012_(3).png', '445_(3).png', '096_(3).png', '084_(2).png', '021_(3).png', '107_(2).png', '346_(2).png', '286_(2).png', '311_(2).png', '270_(2).png', '402_(3).png', '208_(2).png', '215_(2).png', '216_(2).png', '543_(2).png', '064_(3).png', '456_(3).png', '567_(2).png', '449_(3).png', '374_(2).png', '011_(3).png', '310_(2).png', '842_(2).png', '251_(2).png', '258_(2).png', '011_(4).png', '444_(3).png', '460_(3).png', '178_(2).png', '036_(3).png', '476_(2).png', '030_(5).png', '525_(2).png', '362_(3).png', '672_(2).png', '500_(2).png', '240_(2).png', '354_(2).png', '180_(2).png', '330_(2).png', '103_(3).png', '292_(2).png', '458_(2).png', '337_(3).png', '341_(2).png', '112_(3).png', '016_(4).png', '1618.png', '383_(3).png', '446_(2).png', '166_(2).png', '002_(2).png', '1622.png', '012_(2).png', '493_(2).png', '499_(3).png', '339_(2).png', '039_(2).png', '291_(3).png', '309_(2).png', '230_(2).png', '411_(2).png', '013_(5).png', '434_(3).png', '022_(2).png', '677_(2).png', '429_(2).png', '762_(2).png', '285_(2).png', '453_(3).png', '019_(2).png', '022_(5).png', '364_(3).png', '486_(2).png', '324_(2).png', '041_(2).png', '675_(2).png', '003_(2).png', '035_(3).png', '195_(2).png', '549_(2).png', '034_(3).png', '044_(2).png', '375_(3).png', '403_(2).png', '017_(3).png', '380_(3).png', '580_(2).png', '384_(3).png', '198_(2).png', '535_(2).png', '498_(3).png', '366_(3).png', '516_(2).png', '315_(2).png', '265_(2).png', '405_(2).png', '520_(2).png', '300_(2).png', '401_(3).png', '111_(2).png', '758_(2).png', '416_(3).png', '323_(2).png', '717_(2).png', '451_(2).png', '564_(2).png', '209_(2).png', '114_(2).png', '480_(2).png', '753_(2).png', '321_(2).png', '569_(2).png', '228_(2).png', '047_(2).png', '219_(2).png', '554_(2).png', '161_(2).png', '492_(2).png', '097_(3).png', '115_(3).png', '335_(2).png', '059_(3).png', '095_(2).png', '398_(2).png', '379_(3).png', '720_(2).png', '550_(2).png', '440_(2).png', '071_(3).png', '028_(2).png', '328_(2).png', '430_(3).png', '460_(2).png', '427_(3).png', '049_(3).png', '158_(2).png', '1689.png', '418_(3).png', '609_(2).png', '302_(2).png', '391_(2).png', '167_(2).png', '092_(3).png', '031_(3).png', '025_(4).png', '263_(2).png', '225_(2).png', '728_(2).png', '719_(2).png', '314_(3).png', '360_(2).png', '353_(3).png', '1401_(2).png', '670_(2).png', '464_(3).png', '021_(5).png', '002_(5).png', '221_(2).png', '289_(2).png', '101_(2).png', '1017_(2).png', '396_(2).png', '023_(3).png', '117_(3).png', '502_(2).png', '040_(2).png', '064_(2).png', '1605.png', '020_(4).png', '284_(2).png', '104_(3).png', '570_(2).png', '427_(2).png', '392_(4).png', '118_(3).png', '2255.png', '010_(4).png', '532_(2).png', '400_(3).png', '075_(2).png', '462_(2).png', '382_(3).png', '533_(2).png', '053_(3).png', '529_(2).png', '162_(2).png', '099_(3).png', '140_(2).png', '373_(3).png', '344_(3).png', '123_(2).png', '029_(3).png', '325_(2).png', '425_(3).png', '430_(2).png', '116_(3).png', '482_(2).png', '018_(5).png', '104_(2).png', '028_(5).png', '377_(2).png', '505_(2).png', '425_(2).png', '033_(2).png', '767_(2).png', '017_(5).png', '1619.png', '043_(3).png', '039_(4).png', '368_(2).png', '412_(3).png', '764_(2).png', '016_(2).png', '395_(3).png', '431_(2).png', '709_(2).png', '141_(2).png', '015_(3).png', '316_(3).png', '146_(2).png', '366_(2).png', '556_(2).png', '035_(2).png', '432_(2).png', '751_(2).png', '094_(3).png', '246_(2).png', '069_(2).png', '090_(3).png', '038_(3).png', '297_(2).png', '056_(2).png', '052_(2).png', '343_(3).png', '119_(2).png', '351_(3).png', '278_(2).png', '213_(2).png', '232_(2).png', '008_(4).png', '404_(3).png', '743_(2).png', '005_(2).png', '468_(3).png', '205_(2).png', '017_(4).png', '337_(2).png', '028_(4).png', '077_(3).png', '340_(2).png', '320_(2).png', '022_(3).png', '369_(3).png', '497_(3).png', '338_(3).png', '249_(2).png', '003_(5).png', '503_(2).png', '424_(3).png', '478_(2).png', '203_(2).png', '078_(2).png', '499_(2).png', '179_(2).png', '349_(3).png', '157_(2).png', '189_(2).png', '042_(3).png', '513_(2).png', '229_(2).png', '260_(2).png', '469_(2).png', '006_(3).png', '447_(2).png', '025_(2).png', '109_(2).png', '418_(2).png', '138_(2).png', '711_(2).png', '058_(2).png', '454_(3).png', '067_(3).png', '075_(3).png', '034_(2).png', '322_(2).png', '365_(3).png', '255_(2).png', '197_(2).png', '276_(2).png', '350_(2).png', '316_(2).png', '021_(4).png', '524_(2).png', '145_(2).png', '406_(3).png', '224_(2).png', '113_(3).png', '498_(2).png', '354_(3).png', '288_(2).png', '370_(2).png', '147_(2).png', '107_(3).png', '264_(2).png', '713_(2).png', '434_(2).png', '200_(2).png', '008_(2).png', '038_(4).png', '378_(2).png', '1879.png', '248_(2).png', '726_(2).png', '121_(2).png', '1855.png', '388_(3).png', '061_(3).png', '093_(2).png', '054_(2).png', '026_(4).png', '317_(3).png', '085_(3).png', '432_(3).png', '010_(2).png', '668_(2).png', '206_(2).png', '575_(2).png', '017_(2).png', '139_(2).png', '030_(4).png', '169_(2).png', '170_(2).png', '030_(3).png', '413_(3).png', '091_(2).png', '437_(3).png', '110_(2).png', '531_(2).png', '488_(2).png', '108_(3).png', '417_(2).png', '714_(2).png', '463_(3).png', '009_(3).png', '175_(2).png', '487_(2).png', '704_(2).png', '277_(2).png', '363_(2).png', '361_(2).png', '074_(2).png', '103_(2).png', '035_(4).png', '725_(2).png', '338_(2).png', '037_(3).png', '491_(2).png', '018_(4).png', '166_(3).png', '496_(2).png', '674_(2).png', '253_(2).png', '1014_(2).png', '433_(2).png', '326_(2).png', '1610.png', '1780.png', '083_(3).png', '506_(2).png', '050_(2).png', '408_(3).png', '026_(2).png', '397_(2).png', '708_(2).png', '468_(2).png', '329_(2).png', '174_(2).png', '131_(2).png', '009_(4).png', '034_(4).png', '001_(4).png', '1623.png', '299_(2).png', '514_(2).png', '026_(3).png', '036_(2).png', '167_(3).png', '665_(2).png', '459_(3).png', '1621.png', '358_(2).png', '114_(3).png', '149_(2).png', '583_(2).png', '032_(2).png', '450_(2).png', '359_(3).png', '415_(3).png', '1856.png', '319_(3).png', '590_(2).png', '389_(3).png', '735_(2).png', '363_(3).png', '530_(2).png', '448_(2).png', '191_(2).png', '470_(2).png', '527_(2).png', '059_(2).png', '031_(2).png', '037_(4).png', '126_(2).png', '015_(4).png', '1606.png', '579_(2).png', '723_(2).png', '419_(3).png', '334_(2).png', '012_(4).png', '745_(2).png', '081_(2).png', '490_(2).png', '748_(2).png', '494_(2).png', '004_(2).png', '691_(2).png', '436_(2).png', '069_(3).png', '164_(3).png', '534_(2).png', '306_(2).png', '738_(2).png', '196_(2).png', '244_(2).png', '409_(3).png', '566_(2).png', '368_(3).png', '327_(2).png', '282_(2).png', '080_(3).png', '409_(2).png', '705_(2).png', '374_(3).png', '461_(2).png', '466_(3).png', '293_(2).png', '013_(4).png', '159_(2).png', '243_(2).png', '118_(2).png', '750_(3).png', '467_(3).png', '731_(2).png', '019_(5).png', '016_(3).png', '125_(2).png', '700_(2).png', '376_(2).png', '588_(2).png', '465_(3).png', '102_(3).png', '346_(3).png', '383_(2).png', '435_(2).png', '290_(3).png', '555_(2).png', '067_(2).png', '077_(2).png', '068_(2).png', '014_(3).png', '164_(2).png', '194_(2).png', '573_(2).png', '039_(3).png', '1016_(2).png', '1626.png', '007_(4).png', '124_(2).png', '024_(4).png', '443_(3).png', '079_(2).png', '1615.png', '448_(3).png', '129_(2).png', '313_(2).png', '046_(2).png', '458_(3).png', '453_(2).png', '393_(4).png', '403_(3).png', '183_(2).png', '011_(2).png', '553_(2).png', '211_(2).png', '756_(2).png', '352_(3).png', '754_(2).png', '451_(3).png', '539_(2).png', '136_(2).png', '679_(2).png', '057_(3).png', '102_(2).png', '733_(2).png', '090_(2).png', '732_(2).png', '661_(2).png', '065_(2).png', '307_(2).png', '474_(2).png', '584_(2).png', '269_(2).png', '596_(2).png', '421_(2).png', '003_(4).png', '193_(2).png', '420_(2).png', '060_(3).png', '680_(2).png', '156_(2).png', '108_(2).png', '477_(2).png', '226_(2).png', '082_(2).png', '449_(2).png', '345_(2).png', '422_(2).png', '766_(2).png', '257_(2).png', '217_(2).png', '712_(2).png', '384_(2).png', '291_(2).png', '1403_(2).png', '294_(2).png', '173_(2).png', '497_(2).png', '342_(3).png', '397_(3).png', '558_(2).png', '742_(2).png', '489_(2).png', '357_(2).png', '577_(2).png', '595_(2).png', '845_(2).png', '086_(2).png', '279_(2).png', '377_(3).png', '1857.png', '320_(3).png', '1620.png', '058_(3).png', '1687.png', '028_(3).png', '304_(2).png', '522_(2).png', '439_(3).png', '546_(2).png', '724_(2).png', '119_(3).png', '438_(3).png', '707_(2).png', '340_(3).png', '344_(2).png', '610_(2).png', '116_(2).png', '042_(2).png', '042_(4).png', '461_(3).png', '757_(2).png', '296_(2).png', '098_(2).png', '561_(2).png', '095_(3).png', '737_(2).png', '074_(3).png', '439_(2).png', '540_(2).png', '706_(2).png', '371_(2).png', '1688.png', '349_(2).png', '027_(5).png', '394_(3).png', '401_(2).png', '002_(3).png', '442_(2).png', '396_(3).png', '106_(2).png', '424_(2).png', '400_(2).png', '753_(3).png', '053_(2).png', '437_(2).png', '1602.png', '1624.png', '314_(2).png', '426_(2).png', '020_(5).png', '027_(3).png', '455_(2).png', '088_(2).png', '303_(2).png', '393_(2).png', '507_(2).png', '612_(2).png', '070_(2).png', '201_(2).png', '071_(2).png', '552_(2).png', '168_(2).png', '682_(2).png', '268_(2).png', '021_(2).png', '571_(2).png', '765_(2).png', '155_(2).png', '517_(2).png', '692_(2).png', '746_(2).png', '256_(2).png', '751_(3).png', '308_(2).png', '237_(2).png', '318_(2).png', '475_(2).png', '431_(3).png', '044_(3).png', '730_(2).png', '544_(2).png', '004_(4).png', '690_(2).png', '669_(2).png', '1617.png']\n",
            "./data/train/class2 [] ['393_(3).png', '1960.png', '232.png', '1276.png', '1082.png', '254_(2).png', '309.png', '1328.png', '100.png', '056.png', '674.png', '169.png', '573.png', '614.png', '426.png', '092_(2).png', '101.png', '1926.png', '168.png', '181.png', '177_(2).png', '1289.png', '394.png', '621_(2).png', '967.png', '1279.png', '633_(2).png', '275.png', '1786.png', '1014.png', '369.png', '124.png', '521.png', '960.png', '3274.png', '128_(2).png', '1632.png', '641.png', '380.png', '231_(2).png', '517.png', '1612.png', '1414.png', '706.png', '184.png', '1419.png', '873.png', '958.png', '1788.png', '273.png', '609.png', '428_(2).png', '453.png', '815.png', '394_(2).png', '572.png', '163.png', '1288.png', '079.png', '1628.png', '615.png', '185_(2).png', '170.png', '837.png', '389.png', '080.png', '856.png', '2682.png', '618.png', '127.png', '3278.png', '1111.png', '099.png', '234.png', '487.png', '978.png', '179.png', '451.png', '624_(2).png', '1002.png', '452.png', '176_(2).png', '1418.png', '574.png', '1080.png', '1649.png', '518.png', '2683.png', '234_(2).png', '4080.png', '229.png', '296.png', '3399.png', '272.png', '835.png', '1376.png', '520.png', '212.png', '281.png', '252_(2).png', '1375.png', '893.png', '392.png', '1642.png', '022.png', '2681.png', '051_(2).png', '1003.png', '221.png', '612.png', '913_(2).png', '3261.png', '200.png', '089.png', '104.png', '4287.png', '1794.png', '909.png', '250_(2).png', '1787.png', '633.png', '895.png', '392_(2).png', '307.png', '603.png', '3263.png', '1005.png', '646.png', '670.png', '198.png', '035.png', '1645.png', '957.png', '2970.png', '1110.png', '1184.png', '911_(2).png', '042.png', '1631.png', '251.png', '1048.png', '1627.png', '004.png', '223.png', '308.png', '3397.png', '381.png', '914.png', '2157.png', '1654.png', '1183.png', '635_(2).png', '053.png', '041.png', '114.png', '897.png', '1958.png', '644_(2).png', '1005_(2).png', '129.png', '210_(2).png', '122.png', '178_(2).png', '1653.png', '1001.png', '629.png', '2156.png', '1925.png', '892.png', '3315.png', '090.png', '745.png', '490.png', '182.png', '4079.png', '217.png', '209.png', '1641.png', '1310.png', '406.png', '2665.png', '205.png', '2662.png', '039_(2).png', '332.png', '2202.png', '1051.png', '230_(2).png', '638_(2).png', '429_(2).png', '2203.png', '3279.png', '250.png', '1216.png', '3258.png', '1795.png', '625_(2).png', '645.png', '248.png', '1291.png', '438.png', '2663.png', '617.png', '2680.png', '306.png', '1650.png', '1652.png', '187.png', '198_(2).png', '102.png', '1639.png', '3314.png', '024.png', '3260.png', '646_(2).png', '1630.png', '365.png', '185.png', '319.png', '171.png', '054.png', '175.png', '366.png', '742.png', '209_(2).png', '177.png', '705.png', '894.png', '522.png', '2396.png', '1784_(2).png', '602.png', '161_(2).png', '1412.png', '1136.png', '097.png', '233_(2).png', '002.png', '1311.png', '005.png', '131.png', '2667.png', '855.png', '037.png', '021.png', '2395.png', '1638.png', '1000.png', '4288.png', '1924.png', '910.png', '1187.png', '449.png', '486.png', '858.png', '1054.png', '379.png', '982.png', '519.png', '1056.png', '643.png', '436.png', '642.png', '964.png', '836.png', '912_(2).png', '159.png', '220.png', '103.png', '599.png', '622_(2).png', '390.png', '253.png', '1854.png', '1675.png', '215.png', '430.png', '608.png', '186.png', '3259.png', '848.png', '003.png', '961.png', '157.png', '1290.png', '577.png', '623.png', '396.png', '606.png', '991.png', '1853.png', '1327.png', '932.png', '620.png', '672.png', '1646.png', '621.png', '869.png', '1643.png', '1415.png', '006.png', '123.png', '202.png', '213_(2).png', '232_(2).png', '636.png', '049.png', '1793.png', '199.png', '395_(2).png', '1115.png', '1042.png', '1025.png', '1135.png', '432.png', '249_(2).png', '256.png', '635.png', '164.png', '252.png', '437.png', '1188.png', '435.png', '605.png', '1027.png', '642_(2).png', '229_(2).png', '3400.png', '1640.png', '826.png', '3262.png', '1655.png', '1674.png', '1215_(2).png', '1636.png', '1633.png', '627.png', '098.png', '176.png', '001.png', '647.png', '434.png', '2664.png', '160.png', '1879.png', '959.png', '116.png', '616.png', '2204.png', '1070.png', '1217_(2).png', '2394.png', '491.png', '827.png', '170_(2).png', '353.png', '1081.png', '091_(2).png', '207.png', '816.png', '1647.png', '254.png', '649.png', '2393.png', '671.png', '043.png', '1809.png', '1019.png', '1796.png', '912.png', '1055.png', '1637.png', '896.png', '648.png', '165.png', '255.png', '249.png', '039.png', '965.png', '1186.png', '1808.png', '1057.png', '352.png', '634.png', '1784.png', '619.png', '1416.png', '211.png', '744.png', '639_(2).png', '271.png', '450_(2).png', '914_(2).png', '1004_(2).png', '331.png', '1469.png', '092.png', '1856.png', '1134.png', '274.png', '1079.png', '450.png', '1028.png', '330.png', '634_(2).png', '1071.png', '960_(2).png', '050.png', '1790.png', '868.png', '1218_(2).png', '2969.png', '465.png', '645_(2).png', '828.png', '4290.png', '1792.png', '857.png', '258.png', '1006.png', '1213.png', '676.png', '1468.png', '1635.png', '575.png', '640.png', '650.png', '370.png', '747.png', '3398.png', '1786_(2).png', '2155.png', '318.png', '355.png', '407.png', '933.png', '977.png', '1882.png', '052.png', '641_(2).png', '214.png', '173.png', '464.png', '1083.png', '707.png', '388.png', '668.png', '675.png', '607.png', '1075.png', '129_(2).png', '630.png', '295.png', '429.png', '453_(2).png', '197.png', '576.png', '966.png', '354.png', '851.png', '849.png', '008.png', '1216_(2).png', '1073.png', '872.png', '090_(2).png', '1049.png', '1018.png', '678.png', '466.png', '307_(2).png', '1880.png', '1292.png', '1651.png', '1112.png', '1217.png', '395.png', '1041.png', '1215.png', '850.png', '1307.png', '1959.png', '132.png', '468.png', '449_(2).png', '1052.png', '1016.png', '201.png', '283.png', '463.png', '1113.png', '669.png', '1957.png', '1013.png', '3277.png', '911.png', '3276.png', '1026.png', '1374.png', '1003_(2).png', '677.png', '613.png', '305.png', '1648.png', '1072.png', '981.png', '1881.png', '158.png', '610.png', '428.png', '2968.png', '051.png', '600.png', '1413.png', '036.png', '623_(2).png', '1371.png', '125.png', '604.png', '210.png', '126.png', '448.png', '231.png', '2666.png', '166.png', '130.png', '427.png', '1274.png', '233.png', '161.png', '488.png', '1277.png', '961_(2).png', '276.png', '2678.png', '1883.png']\n",
            "./data/val ['class1', 'class2'] []\n",
            "./data/val/class1 [] ['030_(2).png', '393_(3).png', '080_(2).png', '052_(3).png', '083_(2).png', '182_(2).png', '057_(2).png', '133_(2).png', '510_(2).png', '545_(2).png', '117_(2).png', '073_(2).png', '081_(3).png', '423_(3).png', '004_(3).png', '405_(3).png', '172_(2).png', '122_(2).png', '261_(2).png', '734_(2).png', '190_(2).png', '048_(3).png', '013_(2).png', '568_(2).png', '025_(5).png', '033_(3).png', '049_(2).png', '212_(2).png', '041_(3).png', '369_(2).png', '435_(3).png', '018_(3).png', '024_(2).png', '127_(2).png', '154_(2).png', '032_(4).png', '420_(3).png', '454_(2).png', '176_(2).png', '495_(2).png', '152_(2).png', '467_(2).png', '407_(3).png', '471_(2).png', '295_(2).png', '438_(2).png', '051_(2).png', '009_(2).png', '392_(3).png', '443_(2).png', '024_(3).png', '066_(2).png', '426_(3).png', '414_(2).png', '399_(3).png', '372_(2).png', '841_(2).png', '097_(2).png', '016_(5).png', '371_(3).png', '355_(2).png', '381_(3).png', '091_(3).png', '523_(2).png', '1627.png', '441_(2).png', '452_(3).png', '072_(2).png', '402_(2).png', '002_(4).png', '001_(3).png', '078_(3).png', '740_(2).png', '466_(2).png', '509_(2).png', '280_(2).png', '210_(2).png', '020_(2).png', '370_(3).png', '065_(3).png', '411_(3).png', '729_(2).png', '390_(2).png', '678_(2).png', '663_(2).png', '333_(2).png', '023_(4).png', '089_(3).png', '457_(3).png', '222_(2).png', '192_(2).png', '085_(2).png', '518_(2).png', '512_(2).png', '238_(2).png', '130_(2).png', '150_(2).png', '433_(3).png', '062_(2).png', '727_(2).png', '391_(4).png', '143_(2).png', '537_(2).png', '412_(2).png', '233_(2).png', '1195_(2).png', '199_(2).png', '015_(2).png', '027_(4).png', '024_(5).png', '716_(2).png', '593_(2).png', '356_(3).png', '220_(2).png', '298_(2).png', '398_(3).png', '702_(2).png', '345_(3).png', '380_(2).png', '070_(3).png', '239_(2).png', '1616.png', '010_(3).png', '722_(2).png', '018_(2).png', '1600.png', '557_(2).png', '105_(3).png', '367_(3).png', '381_(2).png', '710_(2).png', '1404_(2).png', '019_(3).png', '137_(2).png', '283_(2).png', '450_(3).png', '372_(3).png', '846_(2).png', '1609.png', '395_(2).png', '214_(2).png', '079_(3).png', '768_(2).png', '087_(3).png', '565_(2).png', '204_(2).png', '1603.png', '472_(2).png', '508_(2).png', '473_(2).png', '1613.png', '440_(3).png', '062_(3).png', '353_(2).png', '444_(2).png', '050_(3).png', '673_(2).png', '536_(2).png', '134_(2).png', '559_(2).png', '1015_(2).png', '144_(2).png', '317_(2).png', '521_(2).png', '007_(3).png', '1607.png', '1625.png', '187_(2).png', '100_(3).png', '014_(2).png', '132_(2).png', '676_(2).png', '376_(3).png', '032_(3).png', '410_(3).png', '351_(2).png', '312_(2).png', '761_(2).png', '515_(2).png', '305_(2).png', '051_(3).png', '188_(2).png', '578_(2).png', '759_(2).png', '135_(2).png', '014_(4).png', '760_(2).png', '151_(2).png', '582_(2).png', '356_(2).png', '101_(3).png', '744_(2).png', '084_(3).png', '341_(3).png', '318_(3).png', '385_(3).png', '391_(3).png', '417_(3).png', '218_(2).png', '073_(3).png', '037_(2).png', '336_(2).png', '289_(3).png', '591_(2).png', '181_(2).png', '242_(2).png', '364_(2).png', '023_(2).png', '038_(2).png', '684_(2).png', '752_(2).png', '111_(3).png', '2256.png', '043_(2).png', '390_(3).png', '236_(2).png', '463_(2).png', '416_(2).png', '076_(3).png']\n",
            "./data/val/class2 [] ['408.png', '009.png', '1417.png', '452_(2).png', '643_(2).png', '222.png', '1052_(2).png', '203.png', '871.png', '638.png', '023.png', '367.png', '1114.png', '212_(2).png', '431.png', '913.png', '968.png', '178.png', '980.png', '962_(2).png', '1058.png', '186_(2).png', '007.png', '180.png', '393.png', '1050.png', '127_(2).png', '1214.png', '038.png', '637.png', '433.png', '1878.png', '1789.png', '055.png', '1788_(2).png', '624.png', '3313.png', '115.png', '963_(2).png', '183.png', '392_(3).png', '206.png', '2967.png', '467.png', '1787_(2).png', '250_(3).png', '622.png', '128.png', '208_(2).png', '601.png', '174.png', '167.png', '1927.png', '251_(2).png', '251_(3).png', '1214_(2).png', '626_(2).png', '162.png', '010.png', '1372.png', '1785.png', '294.png', '867.png', '451_(2).png', '391.png', '172.png', '1017.png', '091.png', '3275.png', '2201.png', '040.png', '640_(2).png', '391_(2).png', '2158.png', '673.png', '282.png', '048.png', '4078.png', '1629.png', '611.png', '1053.png', '979.png', '963.png', '121.png', '213.png', '746.png', '081.png', '1613.png', '1855.png', '310.png', '208.png', '1078.png', '644.png', '1309.png', '253_(2).png', '639.png', '1074.png', '962.png', '631.png', '4289.png', '990.png', '1791.png', '126_(2).png', '1004.png', '454.png', '1785_(2).png', '1373.png', '1218.png', '628.png', '625.png', '1015.png', '598.png', '057.png', '632.png', '1634.png', '368.png', '489.png', '834.png', '1644.png', '1185.png', '743.png', '2679.png', '1308.png', '1275.png', '636_(2).png', '093.png', '216.png', '038_(2).png', '393_(2).png', '058.png', '1278.png', '1676.png', '230.png', '626.png']\n",
            "Classes: ['class1', 'class2']\n"
          ]
        }
      ],
      "source": [
        "import os\n",
        "from torchvision import datasets, transforms\n",
        "from torch.utils.data import DataLoader\n",
        "\n",
        "# Define data directory\n",
        "data_dir = './data'  # Update this to your local data directory\n",
        "\n",
        "# Print directory contents for debugging\n",
        "for root, dirs, files in os.walk(data_dir):\n",
        "    print(root, dirs, files)\n",
        "\n",
        "# Define data transformations\n",
        "data_transforms = {\n",
        "    'train': transforms.Compose([\n",
        "        transforms.RandomResizedCrop(224),\n",
        "        transforms.RandomHorizontalFlip(),\n",
        "        transforms.ToTensor(),\n",
        "        transforms.Normalize([0.485, 0.456, 0.406], [0.229, 0.224, 0.225])\n",
        "    ]),\n",
        "    'val': transforms.Compose([\n",
        "        transforms.Resize(256),\n",
        "        transforms.CenterCrop(224),\n",
        "        transforms.ToTensor(),\n",
        "        transforms.Normalize([0.485, 0.456, 0.406], [0.229, 0.224, 0.225])\n",
        "    ]),\n",
        "}\n",
        "\n",
        "# Load datasets\n",
        "image_datasets = {x: datasets.ImageFolder(root=os.path.join(data_dir, x), transform=data_transforms[x])\n",
        "                  for x in ['train', 'val']}\n",
        "\n",
        "# Create data loaders\n",
        "dataloaders = {x: DataLoader(image_datasets[x], batch_size=32, shuffle=True, num_workers=4)\n",
        "               for x in ['train', 'val']}\n",
        "\n",
        "# Dataset sizes\n",
        "dataset_sizes = {x: len(image_datasets[x]) for x in ['train', 'val']}\n",
        "\n",
        "# Class names\n",
        "class_names = image_datasets['train'].classes\n",
        "print(f\"Classes: {class_names}\")\n"
      ]
    },
    {
      "cell_type": "code",
      "execution_count": 14,
      "metadata": {
        "id": "kaWUtzmtTQn1"
      },
      "outputs": [
        {
          "name": "stderr",
          "output_type": "stream",
          "text": [
            "/home/himan/miniconda3/envs/newenv/lib/python3.11/site-packages/torchvision/models/_utils.py:208: UserWarning: The parameter 'pretrained' is deprecated since 0.13 and may be removed in the future, please use 'weights' instead.\n",
            "  warnings.warn(\n",
            "/home/himan/miniconda3/envs/newenv/lib/python3.11/site-packages/torchvision/models/_utils.py:223: UserWarning: Arguments other than a weight enum or `None` for 'weights' are deprecated since 0.13 and may be removed in the future. The current behavior is equivalent to passing `weights=ResNet18_Weights.IMAGENET1K_V1`. You can also use `weights=ResNet18_Weights.DEFAULT` to get the most up-to-date weights.\n",
            "  warnings.warn(msg)\n",
            "Downloading: \"https://download.pytorch.org/models/resnet18-f37072fd.pth\" to /home/himan/.cache/torch/hub/checkpoints/resnet18-f37072fd.pth\n",
            "100%|██████████| 44.7M/44.7M [00:00<00:00, 67.3MB/s]\n"
          ]
        }
      ],
      "source": [
        "# Load pre-trained ResNet18 model\n",
        "model = models.resnet18(pretrained=True)\n",
        "\n",
        "# Freeze all layers\n",
        "for param in model.parameters():\n",
        "    param.requires_grad = False\n",
        "\n",
        "# Modify the final layer\n",
        "num_features = model.fc.in_features\n",
        "model.fc = nn.Linear(num_features, len(class_names))\n",
        "\n",
        "# Move model to the appropriate device\n",
        "model = model.to(device)\n"
      ]
    },
    {
      "cell_type": "code",
      "execution_count": 15,
      "metadata": {
        "id": "NwxgKcRfTSro"
      },
      "outputs": [],
      "source": [
        "# Define loss function\n",
        "criterion = nn.CrossEntropyLoss()\n",
        "\n",
        "# Define optimizer (only for the final layer)\n",
        "optimizer = optim.Adam(model.fc.parameters(), lr=0.001)\n",
        "\n",
        "# Learning rate scheduler\n",
        "scheduler = optim.lr_scheduler.StepLR(optimizer, step_size=7, gamma=0.1)\n"
      ]
    },
    {
      "cell_type": "code",
      "execution_count": 16,
      "metadata": {
        "id": "GeKtCb2vTTyf"
      },
      "outputs": [],
      "source": [
        "def train_model(model, criterion, optimizer, scheduler, num_epochs=25):\n",
        "    since = time.time()\n",
        "\n",
        "    best_model_wts = copy.deepcopy(model.state_dict())\n",
        "    best_acc = 0.0\n",
        "\n",
        "    for epoch in range(num_epochs):\n",
        "        print(f'Epoch {epoch}/{num_epochs - 1}')\n",
        "        print('-' * 10)\n",
        "\n",
        "        # Each epoch has a training and validation phase\n",
        "        for phase in ['train', 'val']:\n",
        "            if phase == 'train':\n",
        "                model.train()  # Set model to training mode\n",
        "            else:\n",
        "                model.eval()   # Set model to evaluate mode\n",
        "\n",
        "            running_loss = 0.0\n",
        "            running_corrects = 0\n",
        "\n",
        "            # Iterate over data\n",
        "            for inputs, labels in dataloaders[phase]:\n",
        "                inputs = inputs.to(device)\n",
        "                labels = labels.to(device)\n",
        "\n",
        "                # Zero the parameter gradients\n",
        "                optimizer.zero_grad()\n",
        "\n",
        "                # Forward\n",
        "                with torch.set_grad_enabled(phase == 'train'):\n",
        "                    outputs = model(inputs)\n",
        "                    _, preds = torch.max(outputs, 1)\n",
        "                    loss = criterion(outputs, labels)\n",
        "\n",
        "                    # Backward + optimize only if in training phase\n",
        "                    if phase == 'train':\n",
        "                        loss.backward()\n",
        "                        optimizer.step()\n",
        "\n",
        "                # Statistics\n",
        "                running_loss += loss.item() * inputs.size(0)\n",
        "                running_corrects += torch.sum(preds == labels.data)\n",
        "\n",
        "            if phase == 'train':\n",
        "                scheduler.step()\n",
        "\n",
        "            epoch_loss = running_loss / dataset_sizes[phase]\n",
        "            epoch_acc = running_corrects.double() / dataset_sizes[phase]\n",
        "\n",
        "            print(f'{phase} Loss: {epoch_loss:.4f} Acc: {epoch_acc:.4f}')\n",
        "\n",
        "            # Deep copy the model\n",
        "            if phase == 'val' and epoch_acc > best_acc:\n",
        "                best_acc = epoch_acc\n",
        "                best_model_wts = copy.deepcopy(model.state_dict())\n",
        "\n",
        "        print()\n",
        "\n",
        "    time_elapsed = time.time() - since\n",
        "    print(f'Training complete in {time_elapsed // 60:.0f}m {time_elapsed % 60:.0f}s')\n",
        "    print(f'Best val Acc: {best_acc:.4f}')\n",
        "\n",
        "    # Load best model weights\n",
        "    model.load_state_dict(best_model_wts)\n",
        "    return model\n"
      ]
    },
    {
      "cell_type": "code",
      "execution_count": 17,
      "metadata": {
        "id": "Y3Kezxp_TVN9"
      },
      "outputs": [
        {
          "name": "stdout",
          "output_type": "stream",
          "text": [
            "Epoch 0/24\n",
            "----------\n",
            "train Loss: 0.3253 Acc: 0.8800\n",
            "val Loss: 0.0790 Acc: 0.9887\n",
            "\n",
            "Epoch 1/24\n",
            "----------\n",
            "train Loss: 0.1115 Acc: 0.9744\n",
            "val Loss: 0.0442 Acc: 0.9972\n",
            "\n",
            "Epoch 2/24\n",
            "----------\n",
            "train Loss: 0.0859 Acc: 0.9787\n",
            "val Loss: 0.0288 Acc: 1.0000\n",
            "\n",
            "Epoch 3/24\n",
            "----------\n",
            "train Loss: 0.0713 Acc: 0.9780\n",
            "val Loss: 0.0208 Acc: 1.0000\n",
            "\n",
            "Epoch 4/24\n",
            "----------\n",
            "train Loss: 0.0592 Acc: 0.9822\n",
            "val Loss: 0.0177 Acc: 1.0000\n",
            "\n",
            "Epoch 5/24\n",
            "----------\n",
            "train Loss: 0.0521 Acc: 0.9879\n",
            "val Loss: 0.0136 Acc: 1.0000\n",
            "\n",
            "Epoch 6/24\n",
            "----------\n",
            "train Loss: 0.0508 Acc: 0.9865\n",
            "val Loss: 0.0125 Acc: 1.0000\n",
            "\n",
            "Epoch 7/24\n",
            "----------\n",
            "train Loss: 0.0515 Acc: 0.9830\n",
            "val Loss: 0.0116 Acc: 1.0000\n",
            "\n",
            "Epoch 8/24\n",
            "----------\n",
            "train Loss: 0.0434 Acc: 0.9872\n",
            "val Loss: 0.0128 Acc: 1.0000\n",
            "\n",
            "Epoch 9/24\n",
            "----------\n",
            "train Loss: 0.0507 Acc: 0.9851\n",
            "val Loss: 0.0112 Acc: 1.0000\n",
            "\n",
            "Epoch 10/24\n",
            "----------\n",
            "train Loss: 0.0389 Acc: 0.9908\n",
            "val Loss: 0.0116 Acc: 1.0000\n",
            "\n",
            "Epoch 11/24\n",
            "----------\n",
            "train Loss: 0.0405 Acc: 0.9858\n",
            "val Loss: 0.0111 Acc: 1.0000\n",
            "\n",
            "Epoch 12/24\n",
            "----------\n",
            "train Loss: 0.0391 Acc: 0.9886\n",
            "val Loss: 0.0108 Acc: 1.0000\n",
            "\n",
            "Epoch 13/24\n",
            "----------\n",
            "train Loss: 0.0385 Acc: 0.9915\n",
            "val Loss: 0.0116 Acc: 1.0000\n",
            "\n",
            "Epoch 14/24\n",
            "----------\n",
            "train Loss: 0.0401 Acc: 0.9893\n",
            "val Loss: 0.0106 Acc: 1.0000\n",
            "\n",
            "Epoch 15/24\n",
            "----------\n",
            "train Loss: 0.0323 Acc: 0.9915\n",
            "val Loss: 0.0105 Acc: 1.0000\n",
            "\n",
            "Epoch 16/24\n",
            "----------\n",
            "train Loss: 0.0402 Acc: 0.9901\n",
            "val Loss: 0.0112 Acc: 1.0000\n",
            "\n",
            "Epoch 17/24\n",
            "----------\n",
            "train Loss: 0.0452 Acc: 0.9844\n",
            "val Loss: 0.0106 Acc: 1.0000\n",
            "\n",
            "Epoch 18/24\n",
            "----------\n",
            "train Loss: 0.0461 Acc: 0.9844\n",
            "val Loss: 0.0110 Acc: 1.0000\n",
            "\n",
            "Epoch 19/24\n",
            "----------\n",
            "train Loss: 0.0484 Acc: 0.9830\n",
            "val Loss: 0.0105 Acc: 1.0000\n",
            "\n",
            "Epoch 20/24\n",
            "----------\n",
            "train Loss: 0.0477 Acc: 0.9844\n",
            "val Loss: 0.0108 Acc: 1.0000\n",
            "\n",
            "Epoch 21/24\n",
            "----------\n",
            "train Loss: 0.0454 Acc: 0.9851\n",
            "val Loss: 0.0105 Acc: 1.0000\n",
            "\n",
            "Epoch 22/24\n",
            "----------\n",
            "train Loss: 0.0495 Acc: 0.9851\n",
            "val Loss: 0.0117 Acc: 1.0000\n",
            "\n",
            "Epoch 23/24\n",
            "----------\n",
            "train Loss: 0.0449 Acc: 0.9865\n",
            "val Loss: 0.0107 Acc: 1.0000\n",
            "\n",
            "Epoch 24/24\n",
            "----------\n",
            "train Loss: 0.0440 Acc: 0.9858\n",
            "val Loss: 0.0107 Acc: 1.0000\n",
            "\n",
            "Training complete in 1m 47s\n",
            "Best val Acc: 1.0000\n"
          ]
        }
      ],
      "source": [
        "# Train the model\n",
        "num_epochs = 25\n",
        "model = train_model(model, criterion, optimizer, scheduler, num_epochs=num_epochs)\n"
      ]
    },
    {
      "cell_type": "code",
      "execution_count": 18,
      "metadata": {
        "id": "thdvCP56TW1w"
      },
      "outputs": [
        {
          "name": "stdout",
          "output_type": "stream",
          "text": [
            "Model saved to ./saved_models/model_weights.pth\n"
          ]
        }
      ],
      "source": [
        "# # Save the trained model\n",
        "# model_save_path = '/content/drive/MyDrive/path_to_save_directory/model_weights.pth'\n",
        "# torch.save(model.state_dict(), model_save_path)\n",
        "# print(f'Model saved to {model_save_path}')\n",
        "\n",
        "model_save_dir = './saved_models'  # Update this to your desired local directory\n",
        "os.makedirs(model_save_dir, exist_ok=True)\n",
        "model_save_path = os.path.join(model_save_dir, 'model_weights.pth')\n",
        "\n",
        "# Save the trained model\n",
        "torch.save(model.state_dict(), model_save_path)\n",
        "print(f'Model saved to {model_save_path}')\n"
      ]
    },
    {
      "cell_type": "code",
      "execution_count": null,
      "metadata": {
        "id": "EzHyst69TZr9"
      },
      "outputs": [],
      "source": [
        "# Load the model for inference\n",
        "model = models.resnet18(pretrained=False)\n",
        "num_features = model.fc.in_features\n",
        "model.fc = nn.Linear(num_features, len(class_names))\n",
        "model.load_state_dict(torch.load(model_save_path))\n",
        "model = model.to(device)\n",
        "model.eval()\n",
        "\n",
        "::contentReference[oaicite:0]{index=0}\n",
        "\n"
      ]
    }
  ],
  "metadata": {
    "colab": {
      "provenance": [],
      "toc_visible": true
    },
    "kernelspec": {
      "display_name": "newenv",
      "language": "python",
      "name": "python3"
    },
    "language_info": {
      "codemirror_mode": {
        "name": "ipython",
        "version": 3
      },
      "file_extension": ".py",
      "mimetype": "text/x-python",
      "name": "python",
      "nbconvert_exporter": "python",
      "pygments_lexer": "ipython3",
      "version": "3.11.11"
    }
  },
  "nbformat": 4,
  "nbformat_minor": 0
}
